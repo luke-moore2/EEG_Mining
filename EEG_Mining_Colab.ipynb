{
  "nbformat": 4,
  "nbformat_minor": 0,
  "metadata": {
    "colab": {
      "provenance": [],
      "authorship_tag": "ABX9TyMX6mA5c8Dx8ZKlbFYWxtCW",
      "include_colab_link": true
    },
    "kernelspec": {
      "name": "python3",
      "display_name": "Python 3"
    },
    "language_info": {
      "name": "python"
    }
  },
  "cells": [
    {
      "cell_type": "markdown",
      "metadata": {
        "id": "view-in-github",
        "colab_type": "text"
      },
      "source": [
        "<a href=\"https://colab.research.google.com/github/nsandlin1/EEG_Mining/blob/main/EEG_Mining_Colab.ipynb\" target=\"_parent\"><img src=\"https://colab.research.google.com/assets/colab-badge.svg\" alt=\"Open In Colab\"/></a>"
      ]
    },
    {
      "cell_type": "markdown",
      "source": [
        "link to data files: https://bbci.de/competition/iii/#data_set_v"
      ],
      "metadata": {
        "id": "GrxqhQ5gPhfc"
      }
    },
    {
      "cell_type": "markdown",
      "source": [
        "# Setting up data files"
      ],
      "metadata": {
        "id": "6hLImb7MUSvk"
      }
    },
    {
      "cell_type": "markdown",
      "source": [
        "### Refactor from ascii (.asc) to csv (.csv)"
      ],
      "metadata": {
        "id": "2bEipCYkPWt_"
      }
    },
    {
      "cell_type": "markdown",
      "source": [
        "```\n",
        "perl -i -pe 's/(?<=\\d)   (?=\\d)/,/g' train*\n",
        "perl -i -pe 's/^   //g' train*\n",
        "\n",
        "perl -i -pe 's/(?<=\\d)  (?=\\d)/,/g' test*\n",
        "perl -i -pe 's/^  //g' test*\n",
        "\n",
        "for FILENAME in *.asc; do mv \"$FILENAME\" \"${FILENAME%.asc}\"; done\n",
        "for FILENAME in *; do mv \"$FILENAME\" \"${FILENAME}.csv\"; done\n",
        "```"
      ],
      "metadata": {
        "id": "UUQduOkdQBkJ"
      }
    },
    {
      "cell_type": "markdown",
      "source": [
        "### Import files"
      ],
      "metadata": {
        "id": "4mirZZDjPvXN"
      }
    },
    {
      "cell_type": "code",
      "source": [
        "# upload files\n",
        "from google.colab import files\n",
        "uploaded = files.upload()"
      ],
      "metadata": {
        "colab": {
          "base_uri": "https://localhost:8080/",
          "height": 144
        },
        "id": "m6kRnWv1fLcC",
        "outputId": "c80187bf-b891-4d57-8f5d-a024a8fc67ed"
      },
      "execution_count": 2,
      "outputs": [
        {
          "output_type": "display_data",
          "data": {
            "text/plain": [
              "<IPython.core.display.HTML object>"
            ],
            "text/html": [
              "\n",
              "     <input type=\"file\" id=\"files-3c582d23-66ee-4998-a32c-24f13429770f\" name=\"files[]\" multiple disabled\n",
              "        style=\"border:none\" />\n",
              "     <output id=\"result-3c582d23-66ee-4998-a32c-24f13429770f\">\n",
              "      Upload widget is only available when the cell has been executed in the\n",
              "      current browser session. Please rerun this cell to enable.\n",
              "      </output>\n",
              "      <script>// Copyright 2017 Google LLC\n",
              "//\n",
              "// Licensed under the Apache License, Version 2.0 (the \"License\");\n",
              "// you may not use this file except in compliance with the License.\n",
              "// You may obtain a copy of the License at\n",
              "//\n",
              "//      http://www.apache.org/licenses/LICENSE-2.0\n",
              "//\n",
              "// Unless required by applicable law or agreed to in writing, software\n",
              "// distributed under the License is distributed on an \"AS IS\" BASIS,\n",
              "// WITHOUT WARRANTIES OR CONDITIONS OF ANY KIND, either express or implied.\n",
              "// See the License for the specific language governing permissions and\n",
              "// limitations under the License.\n",
              "\n",
              "/**\n",
              " * @fileoverview Helpers for google.colab Python module.\n",
              " */\n",
              "(function(scope) {\n",
              "function span(text, styleAttributes = {}) {\n",
              "  const element = document.createElement('span');\n",
              "  element.textContent = text;\n",
              "  for (const key of Object.keys(styleAttributes)) {\n",
              "    element.style[key] = styleAttributes[key];\n",
              "  }\n",
              "  return element;\n",
              "}\n",
              "\n",
              "// Max number of bytes which will be uploaded at a time.\n",
              "const MAX_PAYLOAD_SIZE = 100 * 1024;\n",
              "\n",
              "function _uploadFiles(inputId, outputId) {\n",
              "  const steps = uploadFilesStep(inputId, outputId);\n",
              "  const outputElement = document.getElementById(outputId);\n",
              "  // Cache steps on the outputElement to make it available for the next call\n",
              "  // to uploadFilesContinue from Python.\n",
              "  outputElement.steps = steps;\n",
              "\n",
              "  return _uploadFilesContinue(outputId);\n",
              "}\n",
              "\n",
              "// This is roughly an async generator (not supported in the browser yet),\n",
              "// where there are multiple asynchronous steps and the Python side is going\n",
              "// to poll for completion of each step.\n",
              "// This uses a Promise to block the python side on completion of each step,\n",
              "// then passes the result of the previous step as the input to the next step.\n",
              "function _uploadFilesContinue(outputId) {\n",
              "  const outputElement = document.getElementById(outputId);\n",
              "  const steps = outputElement.steps;\n",
              "\n",
              "  const next = steps.next(outputElement.lastPromiseValue);\n",
              "  return Promise.resolve(next.value.promise).then((value) => {\n",
              "    // Cache the last promise value to make it available to the next\n",
              "    // step of the generator.\n",
              "    outputElement.lastPromiseValue = value;\n",
              "    return next.value.response;\n",
              "  });\n",
              "}\n",
              "\n",
              "/**\n",
              " * Generator function which is called between each async step of the upload\n",
              " * process.\n",
              " * @param {string} inputId Element ID of the input file picker element.\n",
              " * @param {string} outputId Element ID of the output display.\n",
              " * @return {!Iterable<!Object>} Iterable of next steps.\n",
              " */\n",
              "function* uploadFilesStep(inputId, outputId) {\n",
              "  const inputElement = document.getElementById(inputId);\n",
              "  inputElement.disabled = false;\n",
              "\n",
              "  const outputElement = document.getElementById(outputId);\n",
              "  outputElement.innerHTML = '';\n",
              "\n",
              "  const pickedPromise = new Promise((resolve) => {\n",
              "    inputElement.addEventListener('change', (e) => {\n",
              "      resolve(e.target.files);\n",
              "    });\n",
              "  });\n",
              "\n",
              "  const cancel = document.createElement('button');\n",
              "  inputElement.parentElement.appendChild(cancel);\n",
              "  cancel.textContent = 'Cancel upload';\n",
              "  const cancelPromise = new Promise((resolve) => {\n",
              "    cancel.onclick = () => {\n",
              "      resolve(null);\n",
              "    };\n",
              "  });\n",
              "\n",
              "  // Wait for the user to pick the files.\n",
              "  const files = yield {\n",
              "    promise: Promise.race([pickedPromise, cancelPromise]),\n",
              "    response: {\n",
              "      action: 'starting',\n",
              "    }\n",
              "  };\n",
              "\n",
              "  cancel.remove();\n",
              "\n",
              "  // Disable the input element since further picks are not allowed.\n",
              "  inputElement.disabled = true;\n",
              "\n",
              "  if (!files) {\n",
              "    return {\n",
              "      response: {\n",
              "        action: 'complete',\n",
              "      }\n",
              "    };\n",
              "  }\n",
              "\n",
              "  for (const file of files) {\n",
              "    const li = document.createElement('li');\n",
              "    li.append(span(file.name, {fontWeight: 'bold'}));\n",
              "    li.append(span(\n",
              "        `(${file.type || 'n/a'}) - ${file.size} bytes, ` +\n",
              "        `last modified: ${\n",
              "            file.lastModifiedDate ? file.lastModifiedDate.toLocaleDateString() :\n",
              "                                    'n/a'} - `));\n",
              "    const percent = span('0% done');\n",
              "    li.appendChild(percent);\n",
              "\n",
              "    outputElement.appendChild(li);\n",
              "\n",
              "    const fileDataPromise = new Promise((resolve) => {\n",
              "      const reader = new FileReader();\n",
              "      reader.onload = (e) => {\n",
              "        resolve(e.target.result);\n",
              "      };\n",
              "      reader.readAsArrayBuffer(file);\n",
              "    });\n",
              "    // Wait for the data to be ready.\n",
              "    let fileData = yield {\n",
              "      promise: fileDataPromise,\n",
              "      response: {\n",
              "        action: 'continue',\n",
              "      }\n",
              "    };\n",
              "\n",
              "    // Use a chunked sending to avoid message size limits. See b/62115660.\n",
              "    let position = 0;\n",
              "    do {\n",
              "      const length = Math.min(fileData.byteLength - position, MAX_PAYLOAD_SIZE);\n",
              "      const chunk = new Uint8Array(fileData, position, length);\n",
              "      position += length;\n",
              "\n",
              "      const base64 = btoa(String.fromCharCode.apply(null, chunk));\n",
              "      yield {\n",
              "        response: {\n",
              "          action: 'append',\n",
              "          file: file.name,\n",
              "          data: base64,\n",
              "        },\n",
              "      };\n",
              "\n",
              "      let percentDone = fileData.byteLength === 0 ?\n",
              "          100 :\n",
              "          Math.round((position / fileData.byteLength) * 100);\n",
              "      percent.textContent = `${percentDone}% done`;\n",
              "\n",
              "    } while (position < fileData.byteLength);\n",
              "  }\n",
              "\n",
              "  // All done.\n",
              "  yield {\n",
              "    response: {\n",
              "      action: 'complete',\n",
              "    }\n",
              "  };\n",
              "}\n",
              "\n",
              "scope.google = scope.google || {};\n",
              "scope.google.colab = scope.google.colab || {};\n",
              "scope.google.colab._files = {\n",
              "  _uploadFiles,\n",
              "  _uploadFilesContinue,\n",
              "};\n",
              "})(self);\n",
              "</script> "
            ]
          },
          "metadata": {}
        },
        {
          "output_type": "stream",
          "name": "stdout",
          "text": [
            "Saving train_subject1_psd01.csv to train_subject1_psd01.csv\n",
            "Saving train_subject1_psd02.csv to train_subject1_psd02.csv\n",
            "Saving train_subject1_psd03.csv to train_subject1_psd03.csv\n"
          ]
        }
      ]
    },
    {
      "cell_type": "code",
      "source": [
        "# import files to pd dataframe\n",
        "import pandas as pd\n",
        "train_subject1_psd01 = pd.read_csv('train_subject1_psd01.csv', header=None)\n",
        "train_subject1_psd02 = pd.read_csv('train_subject1_psd02.csv', header=None)\n",
        "train_subject1_psd03 = pd.read_csv('train_subject1_psd03.csv', header=None)\n",
        "train_subject1 = pd.concat([train_subject1_psd01, train_subject1_psd02, train_subject1_psd03])\n",
        "# train_subject2_psd01 = pd.read_csv('train_subject2_psd01.csv', header=None)\n",
        "# train_subject2_psd02 = pd.read_csv('train_subject2_psd02.csv', header=None)\n",
        "# train_subject2_psd03 = pd.read_csv('train_subject2_psd03.csv', header=None)\n",
        "# train_subject3_psd01 = pd.read_csv('train_subject3_psd01.csv', header=None)\n",
        "# train_subject3_psd02 = pd.read_csv('train_subject3_psd02.csv', header=None)\n",
        "# train_subject3_psd03 = pd.read_csv('train_subject3_psd03.csv', header=None)"
      ],
      "metadata": {
        "id": "kLSD6AjqUG0n"
      },
      "execution_count": 3,
      "outputs": []
    },
    {
      "cell_type": "markdown",
      "source": [
        "# Data Visualization"
      ],
      "metadata": {
        "id": "RyZYURioWCct"
      }
    },
    {
      "cell_type": "code",
      "source": [
        "# view occurance of different actions\n",
        "# actions are specified by column 97\n",
        "train_subject1_psd01[96].value_counts().plot(kind='bar')"
      ],
      "metadata": {
        "colab": {
          "base_uri": "https://localhost:8080/",
          "height": 456
        },
        "id": "ZvH-VtZCYNSe",
        "outputId": "db7a49e3-73a8-46d2-b356-dad59574489f"
      },
      "execution_count": null,
      "outputs": [
        {
          "output_type": "execute_result",
          "data": {
            "text/plain": [
              "<Axes: >"
            ]
          },
          "metadata": {},
          "execution_count": 7
        },
        {
          "output_type": "display_data",
          "data": {
            "text/plain": [
              "<Figure size 640x480 with 1 Axes>"
            ],
            "image/png": "[encoded data removed]"
          },
          "metadata": {}
        }
      ]
    },
    {
      "cell_type": "code",
      "source": [
        "import seaborn as sns\n",
        "sns.boxplot(data=train_subject1_psd01, x=0)"
      ],
      "metadata": {
        "colab": {
          "base_uri": "https://localhost:8080/",
          "height": 467
        },
        "id": "5Nr9dFx1WEZN",
        "outputId": "40440219-ab3c-47a0-dfe0-23819c025230"
      },
      "execution_count": 43,
      "outputs": [
        {
          "output_type": "execute_result",
          "data": {
            "text/plain": [
              "<Axes: xlabel='0'>"
            ]
          },
          "metadata": {},
          "execution_count": 43
        },
        {
          "output_type": "display_data",
          "data": {
            "text/plain": [
              "<Figure size 640x480 with 1 Axes>"
            ],
            "image/png": "[encoded data removed]"
          },
          "metadata": {}
        }
      ]
    },
    {
      "cell_type": "markdown",
      "source": [
        "# Preprocessing"
      ],
      "metadata": {
        "id": "djEQ-pQ5PG5v"
      }
    },
    {
      "cell_type": "code",
      "source": [
        "# function for checking nulls in df\n",
        "def check_for_nulls(df, verbose=False):\n",
        "  nulls = df.isnull().sum()\n",
        "\n",
        "  if verbose:\n",
        "    zeros = {}\n",
        "    for key,value in nulls.items():\n",
        "        zeros[key] = value\n",
        "    return zeros\n",
        "  else:\n",
        "    return nulls"
      ],
      "metadata": {
        "id": "r4Zj3okbRHHR"
      },
      "execution_count": null,
      "outputs": []
    },
    {
      "cell_type": "code",
      "source": [
        "check_for_nulls(train_subject1_psd01)"
      ],
      "metadata": {
        "colab": {
          "base_uri": "https://localhost:8080/"
        },
        "id": "2CVQjHHVUKHn",
        "outputId": "c81ba477-b081-4996-b84e-78d004dae1d2"
      },
      "execution_count": null,
      "outputs": [
        {
          "output_type": "execute_result",
          "data": {
            "text/plain": [
              "0     0\n",
              "1     0\n",
              "2     0\n",
              "3     0\n",
              "4     0\n",
              "     ..\n",
              "92    0\n",
              "93    0\n",
              "94    0\n",
              "95    0\n",
              "96    0\n",
              "Length: 97, dtype: int64"
            ]
          },
          "metadata": {},
          "execution_count": 27
        }
      ]
    },
    {
      "cell_type": "markdown",
      "source": [
        "### Analysis of Multicolinearity"
      ],
      "metadata": {
        "id": "kqW4OvXHDP5S"
      }
    },
    {
      "cell_type": "code",
      "source": [
        "# https://www.geeksforgeeks.org/detecting-multicollinearity-with-vif-python/\n",
        "\n",
        "from statsmodels.stats.outliers_influence import variance_inflation_factor\n",
        "\n",
        "# dataframe for independent variables\n",
        "independents = train_subject1_psd01[[i for i in range(0, 96)]]\n",
        "\n",
        "# VIF dataframe\n",
        "vifs = pd.DataFrame()\n",
        "\n",
        "# calculate VIF for each attribute\n",
        "vifs[\"VIF\"] = [variance_inflation_factor(independents.values, i) for i in range(len(independents.columns))]\n",
        "\n",
        "print(vifs[vifs.VIF < 6])\n",
        "print(vifs[vifs.VIF > 15])"
      ],
      "metadata": {
        "id": "vV8XdR1l7Cg0",
        "colab": {
          "base_uri": "https://localhost:8080/"
        },
        "outputId": "449a9a70-6acb-4c02-fb7e-8c9d23b838f8"
      },
      "execution_count": 20,
      "outputs": [
        {
          "output_type": "stream",
          "name": "stdout",
          "text": [
            "         VIF\n",
            "0   5.502826\n",
            "11  5.828397\n",
            "23  5.756342\n",
            "35  5.946383\n",
            "95  5.186868\n",
            "          VIF\n",
            "25  20.390979\n"
          ]
        }
      ]
    },
    {
      "cell_type": "markdown",
      "source": [
        "# Data Mining"
      ],
      "metadata": {
        "id": "pvXN6p1ck54L"
      }
    },
    {
      "cell_type": "code",
      "source": [
        "from sklearn.model_selection import train_test_split\n",
        "\n",
        "# define independent and dependent variable subsets for training\n",
        "independents = train_subject1_psd01.drop(96, axis=1)\n",
        "dependents = train_subject1_psd01[96]\n",
        "\n",
        "# partition training and testing sets\n",
        "ind_train, ind_test, dep_train, dep_test = train_test_split(independents, dependents, test_size=0.2)"
      ],
      "metadata": {
        "id": "0WhbzaazysjF"
      },
      "execution_count": 28,
      "outputs": []
    },
    {
      "cell_type": "markdown",
      "source": [
        "### Linear Regression"
      ],
      "metadata": {
        "id": "PKFRDXSj2gvw"
      }
    },
    {
      "cell_type": "code",
      "source": [
        "# https://scikit-learn.org/stable/auto_examples/linear_model/plot_ols.html\n",
        "\n",
        "from sklearn import linear_model\n",
        "from sklearn.metrics import mean_squared_error, r2_score\n",
        "\n",
        "# train using all attributes\n",
        "# instantiate the model\n",
        "regr_all = linear_model.LinearRegression()\n",
        "\n",
        "# regress\n",
        "regr_all.fit(ind_train, dep_train)\n",
        "\n",
        "# train using all attributes\n",
        "dep_pred_all = regr_all.predict(ind_test)\n",
        "\n",
        "print(\"all:\")\n",
        "# compute accuracy of model\n",
        "print(\"Coefficients: \\n\", regr_all.coef_)\n",
        "# mean squared error\n",
        "print(f\"MSE: {mean_squared_error(dep_test, dep_pred_all)}\")\n",
        "# coefficient of determination: 1 is perfect prediction\n",
        "print(f\"r^2: {r2_score(dep_test, dep_pred_all)}\")\n",
        "\n",
        "#####################################################\n",
        "# Multicolinearity dimensionality reduction failed.\n",
        "#####################################################\n",
        "\n",
        "# train using attributes with low multicolinearity as per VIF\n",
        "# those values with the lowest VIF, < 6, were columns 0, 11, 23, 35, & 95\n",
        "# constrict training data to those attributes\n",
        "ind_train_VIF_restricted = ind_train[[0, 11, 23, 35, 95]]\n",
        "ind_test_VIF_restricted = ind_test[[0, 11, 23, 35, 95]]\n",
        "\n",
        "# instantiate the model\n",
        "regr_VIF_restricted = linear_model.LinearRegression()\n",
        "\n",
        "# regress\n",
        "regr_VIF_restricted.fit(ind_train_VIF_restricted, dep_train)\n",
        "\n",
        "# train using restricted attributes\n",
        "dep_pred_VIF_restricted = regr_VIF_restricted.predict(ind_test_VIF_restricted)\n",
        "\n",
        "print(\"\\nVIF restricted:\")\n",
        "# compute accuracy of model\n",
        "print(\"Coefficients: \\n\", regr_VIF_restricted.coef_)\n",
        "# mean squared error\n",
        "print(f\"MSE: {mean_squared_error(dep_test, dep_pred_VIF_restricted)}\")\n",
        "# coefficient of determination: 1 is perfect prediction\n",
        "print(f\"r^2: {r2_score(dep_test, dep_pred_VIF_restricted)}\")\n"
      ],
      "metadata": {
        "colab": {
          "base_uri": "https://localhost:8080/"
        },
        "id": "ZCUh76yO2e1P",
        "outputId": "03a9ac66-7d2e-439a-caec-7b35eb0fbe84"
      },
      "execution_count": 41,
      "outputs": [
        {
          "output_type": "stream",
          "name": "stdout",
          "text": [
            "all:\n",
            "Coefficients: \n",
            " [3586624.44474608 3586613.53618108 3586582.24145176 3586656.90069235\n",
            " 3586596.80290214 3586623.96530954 3586700.32652153 3586569.65466346\n",
            " 3586661.17529643 3586637.28906769 3586670.22870935 3586571.93736175\n",
            " 3586629.88702147 3586627.22865942 3586635.23530059 3586578.42113068\n",
            " 3586580.23889025 3586681.21231472 3586536.24326029 3586733.66575964\n",
            " 3586545.60193556 3586657.40256013 3586721.93342443 3586678.45940353\n",
            " 3586622.83682552 3586615.8297794  3586626.87760379 3586602.74899914\n",
            " 3586637.63958994 3586602.94445631 3586643.31788436 3586574.33480954\n",
            " 3586676.82440865 3586602.72562931 3586605.67600521 3586548.98602845\n",
            " 3586600.37064541 3586662.42446531 3586654.04623467 3586604.25489431\n",
            " 3586596.45512874 3586615.63564374 3586580.68292655 3586664.01879831\n",
            " 3586542.55958917 3586724.00518651 3586511.36184525 3586671.78465413\n",
            " 3586612.56059031 3586659.61818125 3586614.89113394 3586632.13906916\n",
            " 3586549.45540436 3586619.9856727  3586653.49853224 3586598.39900747\n",
            " 3586471.17414903 3586763.00100198 3586605.37765409 3586441.77384559\n",
            " 3586616.98523403 3586617.63357535 3586616.07134205 3586628.09940224\n",
            " 3586613.56338642 3586612.15387428 3586623.49862121 3586639.68285175\n",
            " 3586627.66819473 3586586.06915787 3586641.68524329 3586614.05462402\n",
            " 3586620.22038427 3586642.93925165 3586567.43050353 3586654.86257817\n",
            " 3586577.62846356 3586684.4711904  3586550.1905372  3586604.10797298\n",
            " 3586570.5502861  3586679.55119998 3586564.11680794 3586399.17201039\n",
            " 3586621.86931705 3586640.31386225 3586600.86410562 3586615.88479571\n",
            " 3586598.10164349 3586571.00354821 3586637.32939187 3586686.07433826\n",
            " 3586591.68713922 3586549.90524384 3586587.17440053 3586623.04607546]\n",
            "MSE: 2.525553879543785\n",
            "r^2: 0.47161532845114484\n",
            "\n",
            "VIF restricted:\n",
            "Coefficients: \n",
            " [   0.19634973 -180.90479774  -29.44906561 -182.02082346 -126.93298262]\n",
            "MSE: 4.722994165907934\n",
            "r^2: 0.011877061386938448\n"
          ]
        }
      ]
    },
    {
      "cell_type": "code",
      "source": [],
      "metadata": {
        "id": "sobqIjM67ttx"
      },
      "execution_count": null,
      "outputs": []
    },
    {
      "cell_type": "markdown",
      "source": [
        "\n",
        "\n",
        "### Random Forest"
      ],
      "metadata": {
        "id": "KlWNaf9N7Atr"
      }
    },
    {
      "cell_type": "code",
      "source": [
        "# https://www.datacamp.com/tutorial/random-forests-classifier-python\n",
        "\n",
        "from sklearn.ensemble import RandomForestClassifier\n",
        "from sklearn.metrics import accuracy_score, confusion_matrix, ConfusionMatrixDisplay\n",
        "\n",
        "# fit the random forest model\n",
        "##### TODO: Hyperparameter tuning\n",
        "rf = RandomForestClassifier()\n",
        "rf.fit(ind_train, dep_train)\n",
        "\n",
        "# inference\n",
        "dep_pred = rf.predict(ind_test)\n",
        "\n",
        "# compute accuracy\n",
        "acc = accuracy_score(dep_test, dep_pred)\n",
        "print(f\"acc: {acc}\")\n",
        "\n",
        "# print confusion matrix\n",
        "cm = confusion_matrix(dep_test, dep_pred)\n",
        "ConfusionMatrixDisplay(confusion_matrix=cm).plot()\n"
      ],
      "metadata": {
        "colab": {
          "base_uri": "https://localhost:8080/",
          "height": 485
        },
        "id": "o3CQMrGC9y9i",
        "outputId": "837e762c-01a3-42f5-ad8b-bf0a00e6dcdc"
      },
      "execution_count": 8,
      "outputs": [
        {
          "output_type": "stream",
          "name": "stdout",
          "text": [
            "acc: 0.9541547277936963\n"
          ]
        },
        {
          "output_type": "execute_result",
          "data": {
            "text/plain": [
              "<sklearn.metrics._plot.confusion_matrix.ConfusionMatrixDisplay at 0x79370409c3a0>"
            ]
          },
          "metadata": {},
          "execution_count": 8
        },
        {
          "output_type": "display_data",
          "data": {
            "text/plain": [
              "<Figure size 640x480 with 2 Axes>"
            ],
            "image/png": "[encoded data removed]"
          },
          "metadata": {}
        }
      ]
    },
    {
      "cell_type": "markdown",
      "source": [
        "### SVM"
      ],
      "metadata": {
        "id": "hSiCmhZ4lEgT"
      }
    },
    {
      "cell_type": "code",
      "source": [
        "# https://holypython.com/svm/support-vector-machine-step-by-step/#google_vignette\n",
        "\n",
        "from sklearn import svm\n",
        "\n",
        "# instantiate svm\n",
        "sup_vec_mach = svm.SVC(kernel='rbf')\n",
        "\n",
        "# fit the SVM\n",
        "sup_vec_mach.fit(ind_train, dep_train)\n",
        "\n",
        "# inference\n",
        "dep_pred = sup_vec_mach.predict(ind_test)\n",
        "\n",
        "# compute accuracy\n",
        "acc = accuracy_score(dep_test, dep_pred)\n",
        "print(f\"acc: {acc}\")\n",
        "\n",
        "# print confusion matrix\n",
        "cm = confusion_matrix(dep_test, dep_pred)\n",
        "ConfusionMatrixDisplay(confusion_matrix=cm).plot()"
      ],
      "metadata": {
        "colab": {
          "base_uri": "https://localhost:8080/",
          "height": 486
        },
        "id": "ezx17DMHlF3N",
        "outputId": "bc86fc98-b3a6-4801-ceb4-03e5db342af5"
      },
      "execution_count": 17,
      "outputs": [
        {
          "output_type": "stream",
          "name": "stdout",
          "text": [
            "acc: 0.8510028653295129\n"
          ]
        },
        {
          "output_type": "execute_result",
          "data": {
            "text/plain": [
              "<sklearn.metrics._plot.confusion_matrix.ConfusionMatrixDisplay at 0x793700ffc6a0>"
            ]
          },
          "metadata": {},
          "execution_count": 17
        },
        {
          "output_type": "display_data",
          "data": {
            "text/plain": [
              "<Figure size 640x480 with 2 Axes>"
            ],
            "image/png": "[encoded data removed]"
          },
          "metadata": {}
        }
      ]
    }
  ]
}