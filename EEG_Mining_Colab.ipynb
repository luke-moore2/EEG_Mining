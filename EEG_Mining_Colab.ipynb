{
  "nbformat": 4,
  "nbformat_minor": 0,
  "metadata": {
    "colab": {
      "provenance": [],
      "authorship_tag": "ABX9TyMguX2MH8S2luVsGh8XPwyI",
      "include_colab_link": true
    },
    "kernelspec": {
      "name": "python3",
      "display_name": "Python 3"
    },
    "language_info": {
      "name": "python"
    }
  },
  "cells": [
    {
      "cell_type": "markdown",
      "metadata": {
        "id": "view-in-github",
        "colab_type": "text"
      },
      "source": [
        "<a href=\"https://colab.research.google.com/github/nsandlin1/EEG_Mining/blob/main/EEG_Mining_Colab.ipynb\" target=\"_parent\"><img src=\"https://colab.research.google.com/assets/colab-badge.svg\" alt=\"Open In Colab\"/></a>"
      ]
    },
    {
      "cell_type": "markdown",
      "source": [
        "link to data files: https://bbci.de/competition/iii/#data_set_v"
      ],
      "metadata": {
        "id": "GrxqhQ5gPhfc"
      }
    },
    {
      "cell_type": "markdown",
      "source": [
        "# Setting up data files"
      ],
      "metadata": {
        "id": "6hLImb7MUSvk"
      }
    },
    {
      "cell_type": "markdown",
      "source": [
        "### Refactor from ascii (.asc) to csv (.csv)"
      ],
      "metadata": {
        "id": "2bEipCYkPWt_"
      }
    },
    {
      "cell_type": "markdown",
      "source": [
        "```\n",
        "perl -i -pe 's/(?<=\\d)   (?=\\d)/,/g' train*\n",
        "perl -i -pe 's/^   //g' train*\n",
        "\n",
        "perl -i -pe 's/(?<=\\d)  (?=\\d)/,/g' test*\n",
        "perl -i -pe 's/^  //g' test*\n",
        "\n",
        "for FILENAME in *.asc; do mv \"$FILENAME\" \"${FILENAME%.asc}\"; done\n",
        "for FILENAME in *; do mv \"$FILENAME\" \"${FILENAME}.csv\"; done\n",
        "```"
      ],
      "metadata": {
        "id": "UUQduOkdQBkJ"
      }
    },
    {
      "cell_type": "markdown",
      "source": [
        "### Import files"
      ],
      "metadata": {
        "id": "4mirZZDjPvXN"
      }
    },
    {
      "cell_type": "code",
      "source": [
        "# import files to pd dataframe\n",
        "import pandas as pd\n",
        "train_subject1_psd01 = pd.read_csv('train_subject1_psd01.csv', header=None)\n",
        "# train_subject1_psd02 = pd.read_csv('train_subject1_psd01.csv', header=None)\n",
        "# train_subject1_psd03 = pd.read_csv('train_subject1_psd01.csv', header=None)\n",
        "# train_subject1 = train_subject1_psd01.append(train_subject1_psd02).append(train_subject1_psd03)\n",
        "# train_subject2_psd01 = pd.read_csv('train_subject2_psd01.csv', header=None)\n",
        "# train_subject2_psd02 = pd.read_csv('train_subject2_psd02.csv', header=None)\n",
        "# train_subject2_psd03 = pd.read_csv('train_subject2_psd03.csv', header=None)\n",
        "# train_subject3_psd01 = pd.read_csv('train_subject3_psd01.csv', header=None)\n",
        "# train_subject3_psd02 = pd.read_csv('train_subject3_psd02.csv', header=None)\n",
        "# train_subject3_psd03 = pd.read_csv('train_subject3_psd03.csv', header=None)"
      ],
      "metadata": {
        "id": "kLSD6AjqUG0n"
      },
      "execution_count": 5,
      "outputs": []
    },
    {
      "cell_type": "markdown",
      "source": [
        "# Data Visualization"
      ],
      "metadata": {
        "id": "RyZYURioWCct"
      }
    },
    {
      "cell_type": "code",
      "source": [
        "# view occurance of different actions\n",
        "# actions are specified by column 97\n",
        "train_subject1_psd01[96].value_counts().plot(kind='bar')"
      ],
      "metadata": {
        "colab": {
          "base_uri": "https://localhost:8080/",
          "height": 456
        },
        "id": "ZvH-VtZCYNSe",
        "outputId": "db7a49e3-73a8-46d2-b356-dad59574489f"
      },
      "execution_count": null,
      "outputs": [
        {
          "output_type": "execute_result",
          "data": {
            "text/plain": [
              "<Axes: >"
            ]
          },
          "metadata": {},
          "execution_count": 7
        },
        {
          "output_type": "display_data",
          "data": {
            "text/plain": [
              "<Figure size 640x480 with 1 Axes>"
            ],
            "image/png": "[encoded data removed]"
          },
          "metadata": {}
        }
      ]
    },
    {
      "cell_type": "code",
      "source": [
        "import seaborn as sns\n",
        "sns.boxplot(data=train_subject1_psd01, x=0)"
      ],
      "metadata": {
        "colab": {
          "base_uri": "https://localhost:8080/",
          "height": 467
        },
        "id": "5Nr9dFx1WEZN",
        "outputId": "6413e275-a8a5-4839-d77b-69e1a198100f"
      },
      "execution_count": null,
      "outputs": [
        {
          "output_type": "execute_result",
          "data": {
            "text/plain": [
              "<Axes: xlabel='0'>"
            ]
          },
          "metadata": {},
          "execution_count": 36
        },
        {
          "output_type": "display_data",
          "data": {
            "text/plain": [
              "<Figure size 640x480 with 1 Axes>"
            ],
            "image/png": "[encoded data removed]"
          },
          "metadata": {}
        }
      ]
    },
    {
      "cell_type": "markdown",
      "source": [
        "# Preprocessing"
      ],
      "metadata": {
        "id": "djEQ-pQ5PG5v"
      }
    },
    {
      "cell_type": "code",
      "source": [
        "# function for checking nulls in df\n",
        "def check_for_nulls(df, verbose=False):\n",
        "  nulls = df.isnull().sum()\n",
        "\n",
        "  if verbose:\n",
        "    zeros = {}\n",
        "    for key,value in nulls.items():\n",
        "        zeros[key] = value\n",
        "    return zeros\n",
        "  else:\n",
        "    return nulls"
      ],
      "metadata": {
        "id": "r4Zj3okbRHHR"
      },
      "execution_count": 26,
      "outputs": []
    },
    {
      "cell_type": "code",
      "source": [
        "check_for_nulls(train_subject1_psd01)"
      ],
      "metadata": {
        "colab": {
          "base_uri": "https://localhost:8080/"
        },
        "id": "2CVQjHHVUKHn",
        "outputId": "c81ba477-b081-4996-b84e-78d004dae1d2"
      },
      "execution_count": 27,
      "outputs": [
        {
          "output_type": "execute_result",
          "data": {
            "text/plain": [
              "0     0\n",
              "1     0\n",
              "2     0\n",
              "3     0\n",
              "4     0\n",
              "     ..\n",
              "92    0\n",
              "93    0\n",
              "94    0\n",
              "95    0\n",
              "96    0\n",
              "Length: 97, dtype: int64"
            ]
          },
          "metadata": {},
          "execution_count": 27
        }
      ]
    },
    {
      "cell_type": "markdown",
      "source": [
        "### Analysis of Multicolinearity"
      ],
      "metadata": {
        "id": "kqW4OvXHDP5S"
      }
    },
    {
      "cell_type": "code",
      "source": [
        "# https://www.geeksforgeeks.org/detecting-multicollinearity-with-vif-python/\n",
        "\n",
        "from statsmodels.stats.outliers_influence import variance_inflation_factor\n",
        "\n",
        "# dataframe for independent variables\n",
        "independents = train_subject1_psd01[[i for i in range(0, 96)]]\n",
        "\n",
        "# VIF dataframe\n",
        "vifs = pd.DataFrame()\n",
        "vifs[\"attribute\"] = independents.columns\n",
        "\n",
        "# calculate VIF for each attribute\n",
        "vifs[\"VIF\"] = [variance_inflation_factor(independents.values, i) for i in range(len(independents.columns))]\n",
        "\n",
        "print(vifs[vifs.VIF < 6])\n",
        "print(vifs[vifs.VIF > 15])"
      ],
      "metadata": {
        "id": "vV8XdR1l7Cg0",
        "colab": {
          "base_uri": "https://localhost:8080/"
        },
        "outputId": "13c6501b-b04b-451e-e250-cda393d28b49"
      },
      "execution_count": 22,
      "outputs": [
        {
          "output_type": "stream",
          "name": "stdout",
          "text": [
            "    attribute       VIF\n",
            "0           0  5.502826\n",
            "11         11  5.828397\n",
            "23         23  5.756342\n",
            "35         35  5.946383\n",
            "95         95  5.186868\n",
            "    attribute        VIF\n",
            "25         25  20.390979\n"
          ]
        }
      ]
    },
    {
      "cell_type": "markdown",
      "source": [
        "# Random Forest"
      ],
      "metadata": {
        "id": "KlWNaf9N7Atr"
      }
    },
    {
      "cell_type": "code",
      "source": [
        "# https://www.datacamp.com/tutorial/random-forests-classifier-python\n",
        "\n",
        "from sklearn.ensemble import RandomForestClassifier\n",
        "from sklearn.model_selection import train_test_split\n",
        "\n",
        "# define independent and dependent variable subsets\n",
        "independents = train_subject1_psd01.drop(96, axis=1)\n",
        "dependents = train_subject1_psd01[96]\n",
        "\n",
        "##################################################\n",
        "# Data already has train/test sets partitioned!!!\n",
        "##################################################\n",
        "\n",
        "# fit the random forest model\n",
        "rf = RandomForestClassifier()\n",
        "rf.fit(independents, dependents)"
      ],
      "metadata": {
        "colab": {
          "base_uri": "https://localhost:8080/",
          "height": 75
        },
        "id": "o3CQMrGC9y9i",
        "outputId": "559efce2-67f8-4593-d5ee-3051562c2df7"
      },
      "execution_count": 33,
      "outputs": [
        {
          "output_type": "execute_result",
          "data": {
            "text/plain": [
              "RandomForestClassifier()"
            ],
            "text/html": [
              "<style>#sk-container-id-1 {color: black;background-color: white;}#sk-container-id-1 pre{padding: 0;}#sk-container-id-1 div.sk-toggleable {background-color: white;}#sk-container-id-1 label.sk-toggleable__label {cursor: pointer;display: block;width: 100%;margin-bottom: 0;padding: 0.3em;box-sizing: border-box;text-align: center;}#sk-container-id-1 label.sk-toggleable__label-arrow:before {content: \"▸\";float: left;margin-right: 0.25em;color: #696969;}#sk-container-id-1 label.sk-toggleable__label-arrow:hover:before {color: black;}#sk-container-id-1 div.sk-estimator:hover label.sk-toggleable__label-arrow:before {color: black;}#sk-container-id-1 div.sk-toggleable__content {max-height: 0;max-width: 0;overflow: hidden;text-align: left;background-color: #f0f8ff;}#sk-container-id-1 div.sk-toggleable__content pre {margin: 0.2em;color: black;border-radius: 0.25em;background-color: #f0f8ff;}#sk-container-id-1 input.sk-toggleable__control:checked~div.sk-toggleable__content {max-height: 200px;max-width: 100%;overflow: auto;}#sk-container-id-1 input.sk-toggleable__control:checked~label.sk-toggleable__label-arrow:before {content: \"▾\";}#sk-container-id-1 div.sk-estimator input.sk-toggleable__control:checked~label.sk-toggleable__label {background-color: #d4ebff;}#sk-container-id-1 div.sk-label input.sk-toggleable__control:checked~label.sk-toggleable__label {background-color: #d4ebff;}#sk-container-id-1 input.sk-hidden--visually {border: 0;clip: rect(1px 1px 1px 1px);clip: rect(1px, 1px, 1px, 1px);height: 1px;margin: -1px;overflow: hidden;padding: 0;position: absolute;width: 1px;}#sk-container-id-1 div.sk-estimator {font-family: monospace;background-color: #f0f8ff;border: 1px dotted black;border-radius: 0.25em;box-sizing: border-box;margin-bottom: 0.5em;}#sk-container-id-1 div.sk-estimator:hover {background-color: #d4ebff;}#sk-container-id-1 div.sk-parallel-item::after {content: \"\";width: 100%;border-bottom: 1px solid gray;flex-grow: 1;}#sk-container-id-1 div.sk-label:hover label.sk-toggleable__label {background-color: #d4ebff;}#sk-container-id-1 div.sk-serial::before {content: \"\";position: absolute;border-left: 1px solid gray;box-sizing: border-box;top: 0;bottom: 0;left: 50%;z-index: 0;}#sk-container-id-1 div.sk-serial {display: flex;flex-direction: column;align-items: center;background-color: white;padding-right: 0.2em;padding-left: 0.2em;position: relative;}#sk-container-id-1 div.sk-item {position: relative;z-index: 1;}#sk-container-id-1 div.sk-parallel {display: flex;align-items: stretch;justify-content: center;background-color: white;position: relative;}#sk-container-id-1 div.sk-item::before, #sk-container-id-1 div.sk-parallel-item::before {content: \"\";position: absolute;border-left: 1px solid gray;box-sizing: border-box;top: 0;bottom: 0;left: 50%;z-index: -1;}#sk-container-id-1 div.sk-parallel-item {display: flex;flex-direction: column;z-index: 1;position: relative;background-color: white;}#sk-container-id-1 div.sk-parallel-item:first-child::after {align-self: flex-end;width: 50%;}#sk-container-id-1 div.sk-parallel-item:last-child::after {align-self: flex-start;width: 50%;}#sk-container-id-1 div.sk-parallel-item:only-child::after {width: 0;}#sk-container-id-1 div.sk-dashed-wrapped {border: 1px dashed gray;margin: 0 0.4em 0.5em 0.4em;box-sizing: border-box;padding-bottom: 0.4em;background-color: white;}#sk-container-id-1 div.sk-label label {font-family: monospace;font-weight: bold;display: inline-block;line-height: 1.2em;}#sk-container-id-1 div.sk-label-container {text-align: center;}#sk-container-id-1 div.sk-container {/* jupyter's `normalize.less` sets `[hidden] { display: none; }` but bootstrap.min.css set `[hidden] { display: none !important; }` so we also need the `!important` here to be able to override the default hidden behavior on the sphinx rendered scikit-learn.org. See: https://github.com/scikit-learn/scikit-learn/issues/21755 */display: inline-block !important;position: relative;}#sk-container-id-1 div.sk-text-repr-fallback {display: none;}</style><div id=\"sk-container-id-1\" class=\"sk-top-container\"><div class=\"sk-text-repr-fallback\"><pre>RandomForestClassifier()</pre><b>In a Jupyter environment, please rerun this cell to show the HTML representation or trust the notebook. <br />On GitHub, the HTML representation is unable to render, please try loading this page with nbviewer.org.</b></div><div class=\"sk-container\" hidden><div class=\"sk-item\"><div class=\"sk-estimator sk-toggleable\"><input class=\"sk-toggleable__control sk-hidden--visually\" id=\"sk-estimator-id-1\" type=\"checkbox\" checked><label for=\"sk-estimator-id-1\" class=\"sk-toggleable__label sk-toggleable__label-arrow\">RandomForestClassifier</label><div class=\"sk-toggleable__content\"><pre>RandomForestClassifier()</pre></div></div></div></div></div>"
            ]
          },
          "metadata": {},
          "execution_count": 33
        }
      ]
    }
  ]
}